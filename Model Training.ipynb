{
 "cells": [
  {
   "cell_type": "code",
   "execution_count": 32,
   "id": "37438522-af00-4ddf-a3c2-2ad16ba3ed7a",
   "metadata": {},
   "outputs": [],
   "source": [
    "import pandas as pd"
   ]
  },
  {
   "cell_type": "code",
   "execution_count": 33,
   "id": "bcdc1076-39ba-40bc-8755-d9578d192e6d",
   "metadata": {},
   "outputs": [],
   "source": [
    "df = pd.read_csv(\"spotify_millsongdata.csv\")"
   ]
  },
  {
   "cell_type": "code",
   "execution_count": 34,
   "id": "cec913e5-256c-4841-a12a-b101e3a2472f",
   "metadata": {},
   "outputs": [
    {
     "data": {
      "text/html": [
       "<div>\n",
       "<style scoped>\n",
       "    .dataframe tbody tr th:only-of-type {\n",
       "        vertical-align: middle;\n",
       "    }\n",
       "\n",
       "    .dataframe tbody tr th {\n",
       "        vertical-align: top;\n",
       "    }\n",
       "\n",
       "    .dataframe thead th {\n",
       "        text-align: right;\n",
       "    }\n",
       "</style>\n",
       "<table border=\"1\" class=\"dataframe\">\n",
       "  <thead>\n",
       "    <tr style=\"text-align: right;\">\n",
       "      <th></th>\n",
       "      <th>artist</th>\n",
       "      <th>song</th>\n",
       "      <th>link</th>\n",
       "      <th>text</th>\n",
       "    </tr>\n",
       "  </thead>\n",
       "  <tbody>\n",
       "    <tr>\n",
       "      <th>0</th>\n",
       "      <td>ABBA</td>\n",
       "      <td>Ahe's My Kind Of Girl</td>\n",
       "      <td>/a/abba/ahes+my+kind+of+girl_20598417.html</td>\n",
       "      <td>Look at her face, it's a wonderful face  \\r\\nA...</td>\n",
       "    </tr>\n",
       "    <tr>\n",
       "      <th>1</th>\n",
       "      <td>ABBA</td>\n",
       "      <td>Andante, Andante</td>\n",
       "      <td>/a/abba/andante+andante_20002708.html</td>\n",
       "      <td>Take it easy with me, please  \\r\\nTouch me gen...</td>\n",
       "    </tr>\n",
       "    <tr>\n",
       "      <th>2</th>\n",
       "      <td>ABBA</td>\n",
       "      <td>As Good As New</td>\n",
       "      <td>/a/abba/as+good+as+new_20003033.html</td>\n",
       "      <td>I'll never know why I had to go  \\r\\nWhy I had...</td>\n",
       "    </tr>\n",
       "    <tr>\n",
       "      <th>3</th>\n",
       "      <td>ABBA</td>\n",
       "      <td>Bang</td>\n",
       "      <td>/a/abba/bang_20598415.html</td>\n",
       "      <td>Making somebody happy is a question of give an...</td>\n",
       "    </tr>\n",
       "    <tr>\n",
       "      <th>4</th>\n",
       "      <td>ABBA</td>\n",
       "      <td>Bang-A-Boomerang</td>\n",
       "      <td>/a/abba/bang+a+boomerang_20002668.html</td>\n",
       "      <td>Making somebody happy is a question of give an...</td>\n",
       "    </tr>\n",
       "  </tbody>\n",
       "</table>\n",
       "</div>"
      ],
      "text/plain": [
       "  artist                   song                                        link  \\\n",
       "0   ABBA  Ahe's My Kind Of Girl  /a/abba/ahes+my+kind+of+girl_20598417.html   \n",
       "1   ABBA       Andante, Andante       /a/abba/andante+andante_20002708.html   \n",
       "2   ABBA         As Good As New        /a/abba/as+good+as+new_20003033.html   \n",
       "3   ABBA                   Bang                  /a/abba/bang_20598415.html   \n",
       "4   ABBA       Bang-A-Boomerang      /a/abba/bang+a+boomerang_20002668.html   \n",
       "\n",
       "                                                text  \n",
       "0  Look at her face, it's a wonderful face  \\r\\nA...  \n",
       "1  Take it easy with me, please  \\r\\nTouch me gen...  \n",
       "2  I'll never know why I had to go  \\r\\nWhy I had...  \n",
       "3  Making somebody happy is a question of give an...  \n",
       "4  Making somebody happy is a question of give an...  "
      ]
     },
     "execution_count": 34,
     "metadata": {},
     "output_type": "execute_result"
    }
   ],
   "source": [
    "df.head(5)"
   ]
  },
  {
   "cell_type": "code",
   "execution_count": 35,
   "id": "c9a1def2-59c5-4ddc-98de-13b4e42ebcc6",
   "metadata": {},
   "outputs": [
    {
     "data": {
      "text/plain": [
       "(57650, 4)"
      ]
     },
     "execution_count": 35,
     "metadata": {},
     "output_type": "execute_result"
    }
   ],
   "source": [
    "df.shape"
   ]
  },
  {
   "cell_type": "code",
   "execution_count": 36,
   "id": "9d7d241e-d957-4d9f-b120-4285c2209074",
   "metadata": {},
   "outputs": [
    {
     "data": {
      "text/plain": [
       "artist    0\n",
       "song      0\n",
       "link      0\n",
       "text      0\n",
       "dtype: int64"
      ]
     },
     "execution_count": 36,
     "metadata": {},
     "output_type": "execute_result"
    }
   ],
   "source": [
    "df.isnull().sum()"
   ]
  },
  {
   "cell_type": "code",
   "execution_count": 37,
   "id": "3283c9d1-d12e-455f-8f87-5abf7c45fa2d",
   "metadata": {},
   "outputs": [],
   "source": [
    "df =df.sample(10000).drop('link', axis=1).reset_index(drop=True)"
   ]
  },
  {
   "cell_type": "code",
   "execution_count": 38,
   "id": "33b5347b-8596-4536-9969-3c9f9b7a4151",
   "metadata": {},
   "outputs": [
    {
     "data": {
      "text/html": [
       "<div>\n",
       "<style scoped>\n",
       "    .dataframe tbody tr th:only-of-type {\n",
       "        vertical-align: middle;\n",
       "    }\n",
       "\n",
       "    .dataframe tbody tr th {\n",
       "        vertical-align: top;\n",
       "    }\n",
       "\n",
       "    .dataframe thead th {\n",
       "        text-align: right;\n",
       "    }\n",
       "</style>\n",
       "<table border=\"1\" class=\"dataframe\">\n",
       "  <thead>\n",
       "    <tr style=\"text-align: right;\">\n",
       "      <th></th>\n",
       "      <th>artist</th>\n",
       "      <th>song</th>\n",
       "      <th>text</th>\n",
       "    </tr>\n",
       "  </thead>\n",
       "  <tbody>\n",
       "    <tr>\n",
       "      <th>0</th>\n",
       "      <td>Olivia Newton-John</td>\n",
       "      <td>Suddenly</td>\n",
       "      <td>She walks in and I'm suddenly a hero  \\r\\nI'm ...</td>\n",
       "    </tr>\n",
       "    <tr>\n",
       "      <th>1</th>\n",
       "      <td>Kenny Rogers</td>\n",
       "      <td>Have A Little Faith In Me</td>\n",
       "      <td>When the road gets dark and you can no longer ...</td>\n",
       "    </tr>\n",
       "    <tr>\n",
       "      <th>2</th>\n",
       "      <td>Cher</td>\n",
       "      <td>Believe (Club 69 Phunk Dub)</td>\n",
       "      <td>No matter how hard I try  \\r\\nYou keep pushing...</td>\n",
       "    </tr>\n",
       "    <tr>\n",
       "      <th>3</th>\n",
       "      <td>Zeromancer</td>\n",
       "      <td>Dr. Online</td>\n",
       "      <td>Everybody online?  \\r\\nIt's the beginning of t...</td>\n",
       "    </tr>\n",
       "    <tr>\n",
       "      <th>4</th>\n",
       "      <td>Christmas Songs</td>\n",
       "      <td>Es Ist Ein Ros' Entsprungen</td>\n",
       "      <td>Es ist ein Ros' entsprungen, aus einer Wurzel ...</td>\n",
       "    </tr>\n",
       "    <tr>\n",
       "      <th>5</th>\n",
       "      <td>Amy Grant</td>\n",
       "      <td>Takes A Little Time</td>\n",
       "      <td>[Chorus]  \\r\\nIt takes a little time sometimes...</td>\n",
       "    </tr>\n",
       "    <tr>\n",
       "      <th>6</th>\n",
       "      <td>George Harrison</td>\n",
       "      <td>Simply Shady</td>\n",
       "      <td>Somebody brought the juicer  \\r\\nI thought I'd...</td>\n",
       "    </tr>\n",
       "    <tr>\n",
       "      <th>7</th>\n",
       "      <td>Elton John</td>\n",
       "      <td>Born To Lose</td>\n",
       "      <td>Born to lose  \\r\\nI've lived my life in vain  ...</td>\n",
       "    </tr>\n",
       "    <tr>\n",
       "      <th>8</th>\n",
       "      <td>Vanessa Williams</td>\n",
       "      <td>Sister Moon</td>\n",
       "      <td>Sister moon will be my guide,  \\r\\nin your blu...</td>\n",
       "    </tr>\n",
       "    <tr>\n",
       "      <th>9</th>\n",
       "      <td>Janis Joplin</td>\n",
       "      <td>A Woman Left Lonely</td>\n",
       "      <td>A woman left lonely will soon grow tired of wa...</td>\n",
       "    </tr>\n",
       "  </tbody>\n",
       "</table>\n",
       "</div>"
      ],
      "text/plain": [
       "               artist                         song  \\\n",
       "0  Olivia Newton-John                     Suddenly   \n",
       "1        Kenny Rogers    Have A Little Faith In Me   \n",
       "2                Cher  Believe (Club 69 Phunk Dub)   \n",
       "3          Zeromancer                   Dr. Online   \n",
       "4     Christmas Songs  Es Ist Ein Ros' Entsprungen   \n",
       "5           Amy Grant          Takes A Little Time   \n",
       "6     George Harrison                 Simply Shady   \n",
       "7          Elton John                 Born To Lose   \n",
       "8    Vanessa Williams                  Sister Moon   \n",
       "9        Janis Joplin          A Woman Left Lonely   \n",
       "\n",
       "                                                text  \n",
       "0  She walks in and I'm suddenly a hero  \\r\\nI'm ...  \n",
       "1  When the road gets dark and you can no longer ...  \n",
       "2  No matter how hard I try  \\r\\nYou keep pushing...  \n",
       "3  Everybody online?  \\r\\nIt's the beginning of t...  \n",
       "4  Es ist ein Ros' entsprungen, aus einer Wurzel ...  \n",
       "5  [Chorus]  \\r\\nIt takes a little time sometimes...  \n",
       "6  Somebody brought the juicer  \\r\\nI thought I'd...  \n",
       "7  Born to lose  \\r\\nI've lived my life in vain  ...  \n",
       "8  Sister moon will be my guide,  \\r\\nin your blu...  \n",
       "9  A woman left lonely will soon grow tired of wa...  "
      ]
     },
     "execution_count": 38,
     "metadata": {},
     "output_type": "execute_result"
    }
   ],
   "source": [
    "df.head(10)"
   ]
  },
  {
   "cell_type": "code",
   "execution_count": 39,
   "id": "26e461c3-0f11-4f18-831f-749f956c56f3",
   "metadata": {},
   "outputs": [],
   "source": [
    "df['text'] = df['text'].str.lower().replace(r'^\\w\\s', ' ').replace(r'\\n', ' ', regex = True)"
   ]
  },
  {
   "cell_type": "code",
   "execution_count": 40,
   "id": "ca58d1d0-e4e7-4b83-bcfe-a8aab04967b8",
   "metadata": {},
   "outputs": [],
   "source": [
    "import nltk\n",
    "from nltk.stem.porter import PorterStemmer\n",
    "stemmer = PorterStemmer()\n",
    "\n",
    "def tokenization(txt):\n",
    "    tokens = nltk.word_tokenize(txt)\n",
    "    stemming = [stemmer.stem(w) for w in tokens]\n",
    "    return \" \".join(stemming)"
   ]
  },
  {
   "cell_type": "code",
   "execution_count": 41,
   "id": "67bce32b-32b9-47d5-a12a-a211074677cc",
   "metadata": {},
   "outputs": [],
   "source": [
    "df['text'] = df['text'].apply(lambda x: tokenization(x))"
   ]
  },
  {
   "cell_type": "code",
   "execution_count": 42,
   "id": "3b2bb70c-d47c-4203-9cbd-3d6b3628e467",
   "metadata": {},
   "outputs": [],
   "source": [
    "from sklearn.feature_extraction.text import TfidfVectorizer\n",
    "from sklearn.metrics.pairwise import cosine_similarity"
   ]
  },
  {
   "cell_type": "code",
   "execution_count": 43,
   "id": "eb7dc32b-4c52-4fa5-893d-d4973f7e7767",
   "metadata": {},
   "outputs": [],
   "source": [
    "tfidvector = TfidfVectorizer(analyzer='word',stop_words='english')\n",
    "matrix = tfidvector.fit_transform(df['text'])\n",
    "similarity = cosine_similarity(matrix)"
   ]
  },
  {
   "cell_type": "code",
   "execution_count": 44,
   "id": "1dfd775b-25e7-487c-a458-dface1618564",
   "metadata": {},
   "outputs": [
    {
     "data": {
      "text/plain": [
       "array([1.        , 0.00500002, 0.06203974, ..., 0.00659773, 0.01127382,\n",
       "       0.01126909])"
      ]
     },
     "execution_count": 44,
     "metadata": {},
     "output_type": "execute_result"
    }
   ],
   "source": [
    "similarity[0]"
   ]
  },
  {
   "cell_type": "code",
   "execution_count": 45,
   "id": "3711c418-2d65-4df1-b6d5-99fd73d1ec2a",
   "metadata": {},
   "outputs": [
    {
     "data": {
      "text/plain": [
       "'Suddenly'"
      ]
     },
     "execution_count": 45,
     "metadata": {},
     "output_type": "execute_result"
    }
   ],
   "source": [
    "firstSong = df['song'][0]"
   ]
  },
  {
   "cell_type": "code",
   "execution_count": 49,
   "id": "ff37467d-5b74-4687-9654-7f4f9e5e229e",
   "metadata": {},
   "outputs": [
    {
     "data": {
      "text/html": [
       "<div>\n",
       "<style scoped>\n",
       "    .dataframe tbody tr th:only-of-type {\n",
       "        vertical-align: middle;\n",
       "    }\n",
       "\n",
       "    .dataframe tbody tr th {\n",
       "        vertical-align: top;\n",
       "    }\n",
       "\n",
       "    .dataframe thead th {\n",
       "        text-align: right;\n",
       "    }\n",
       "</style>\n",
       "<table border=\"1\" class=\"dataframe\">\n",
       "  <thead>\n",
       "    <tr style=\"text-align: right;\">\n",
       "      <th></th>\n",
       "      <th>artist</th>\n",
       "      <th>song</th>\n",
       "      <th>text</th>\n",
       "    </tr>\n",
       "  </thead>\n",
       "  <tbody>\n",
       "    <tr>\n",
       "      <th>0</th>\n",
       "      <td>Olivia Newton-John</td>\n",
       "      <td>Suddenly</td>\n",
       "      <td>she walk in and i 'm suddenli a hero i 'm take...</td>\n",
       "    </tr>\n",
       "  </tbody>\n",
       "</table>\n",
       "</div>"
      ],
      "text/plain": [
       "               artist      song  \\\n",
       "0  Olivia Newton-John  Suddenly   \n",
       "\n",
       "                                                text  \n",
       "0  she walk in and i 'm suddenli a hero i 'm take...  "
      ]
     },
     "execution_count": 49,
     "metadata": {},
     "output_type": "execute_result"
    }
   ],
   "source": [
    "df[df['song'] == firstSong]"
   ]
  },
  {
   "cell_type": "code",
   "execution_count": 50,
   "id": "13c3b794-0726-4a84-87b0-5a86ade0410e",
   "metadata": {},
   "outputs": [],
   "source": [
    "def recommendation(song_df):\n",
    "    idx = df[df['song'] == song_df].index[0]\n",
    "    distances = sorted(list(enumerate(similarity[idx])),reverse=True,key=lambda x:x[1])\n",
    "    \n",
    "    songs = []\n",
    "    for m_id in distances[1:21]:\n",
    "        songs.append(df.iloc[m_id[0]].song)\n",
    "        \n",
    "    return songs"
   ]
  },
  {
   "cell_type": "code",
   "execution_count": 51,
   "id": "85d1518d-0ceb-4157-b5a6-c2099f7a5680",
   "metadata": {},
   "outputs": [
    {
     "data": {
      "text/plain": [
       "(10000, 3)"
      ]
     },
     "execution_count": 51,
     "metadata": {},
     "output_type": "execute_result"
    }
   ],
   "source": [
    "df.shape"
   ]
  },
  {
   "cell_type": "code",
   "execution_count": 52,
   "id": "7f614b38-6e9b-4c34-885c-2c9ebe5e5a3c",
   "metadata": {},
   "outputs": [
    {
     "data": {
      "text/plain": [
       "['Are You Ready',\n",
       " 'Are You Ready',\n",
       " 'Ready For You',\n",
       " \"I'm Ready\",\n",
       " \"I Think I'm Ready\",\n",
       " 'Suspended In Gaffa',\n",
       " 'Just The Lonely Talking Again',\n",
       " 'Ready To Go Home',\n",
       " \"Who's Grown Up Now\",\n",
       " 'Turned The Corner',\n",
       " 'Can You Feel It',\n",
       " 'Any Love',\n",
       " 'Heaven Help My Heart',\n",
       " 'Keep It In Motion',\n",
       " \"Everybody's Everything\",\n",
       " \"I'm Alive\",\n",
       " \"Rough An' Ready\",\n",
       " 'Slow Motion',\n",
       " \"I've Been Thinking About You\",\n",
       " 'No Other Love']"
      ]
     },
     "execution_count": 52,
     "metadata": {},
     "output_type": "execute_result"
    }
   ],
   "source": [
    "recommendation(firstSong)"
   ]
  },
  {
   "cell_type": "code",
   "execution_count": 53,
   "id": "b9a412dd-11b8-4b92-9eda-90afebd04f80",
   "metadata": {},
   "outputs": [],
   "source": [
    "import pickle\n",
    "pickle.dump(similarity,open('similarity.pkl','wb'))\n",
    "pickle.dump(df,open('df.pkl','wb'))"
   ]
  },
  {
   "cell_type": "code",
   "execution_count": null,
   "id": "f77cc6d4-550e-493f-953f-5b5337e0bc0a",
   "metadata": {},
   "outputs": [],
   "source": []
  }
 ],
 "metadata": {
  "kernelspec": {
   "display_name": "Python 3 (ipykernel)",
   "language": "python",
   "name": "python3"
  },
  "language_info": {
   "codemirror_mode": {
    "name": "ipython",
    "version": 3
   },
   "file_extension": ".py",
   "mimetype": "text/x-python",
   "name": "python",
   "nbconvert_exporter": "python",
   "pygments_lexer": "ipython3",
   "version": "3.11.3"
  }
 },
 "nbformat": 4,
 "nbformat_minor": 5
}
